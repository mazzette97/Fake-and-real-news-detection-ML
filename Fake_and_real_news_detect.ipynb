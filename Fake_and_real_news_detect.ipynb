{
  "nbformat": 4,
  "nbformat_minor": 0,
  "metadata": {
    "colab": {
      "provenance": [],
      "authorship_tag": "ABX9TyMhBeVBhwg2QuX+tVSCjQoX",
      "include_colab_link": true
    },
    "kernelspec": {
      "name": "python3",
      "display_name": "Python 3"
    },
    "language_info": {
      "name": "python"
    }
  },
  "cells": [
    {
      "cell_type": "markdown",
      "metadata": {
        "id": "view-in-github",
        "colab_type": "text"
      },
      "source": [
        "<a href=\"https://colab.research.google.com/github/mazzette97/Fake-and-real-news-detection-ML/blob/main/Fake_and_real_news_detect.ipynb\" target=\"_parent\"><img src=\"https://colab.research.google.com/assets/colab-badge.svg\" alt=\"Open In Colab\"/></a>"
      ]
    },
    {
      "cell_type": "code",
      "execution_count": null,
      "metadata": {
        "id": "Po90Xvhg5a08"
      },
      "outputs": [],
      "source": [
        "#In this project I propose a machine learning model attemps to distinguish fake and real news into \"https://www.kaggle.com/datasets/clmentbisaillon/fake-and-real-news-dataset\" dataset\n",
        "\n",
        "import pandas as pd\n",
        "import numpy as np\n",
        "import matlplotlib.pyplot as plt\n",
        "import seaborn as sns\n",
        "import itertools\n",
        "import nltk\n",
        "\n",
        "from sklearn.model_selection import train_test_split\n",
        "from sklearn.feature_extraction.text import TfidfVectorizer\n",
        "from sklearn.linear_model import PassiveAggressiveClassifier\n",
        "from sklearn.metrics import accuracy_score, confusion_matrix\n",
        "\n",
        "#set of instruction to clean the text about stopwords, capslock letter, numbers and symbols\n",
        "\n",
        "from nltk.corpus import stopwords  # Stopwords (parole comuni da rimuovere)\n",
        "from nltk.stem.porter import PorterStemmer  # Stemming to remove stopwords\n",
        "nltk.download('stopwords')  #download a dataset of stopwords \"just to be safe to remove all correctly\" controllare quest'ultima cosa\n",
        "\n",
        "stemmer = PorterStemmer() #initialize stemmer\n",
        "stop_words = set(stopwords.words('english'))\n",
        "\n",
        "def preprocess_text(text):\n",
        "    text = text.lower()  # Remove capslock letters\n",
        "    text = re.sub(r'[^a-zA-Z]', ' ', text)  # Remove numbers and symbols\n",
        "    words = text.split()  # Divide the text into a set of words\n",
        "    words = [stemmer.stem(word) for word in words if word not in stop_words]  # Remove stopwords and make stemming\n",
        "    return ' '.join(words)\n",
        "\n",
        "\n",
        "\n",
        "\n",
        "\n",
        "\n",
        "\n",
        "\n",
        "\n",
        "\n",
        "\n",
        "\n",
        "\n",
        "\n",
        "\n",
        "\n",
        "\n",
        "\n",
        "\n",
        "\n",
        "\n",
        "\n",
        "\n",
        "\n"
      ]
    }
  ]
}